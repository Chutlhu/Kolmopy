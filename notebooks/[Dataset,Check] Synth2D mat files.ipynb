{
 "cells": [
  {
   "cell_type": "code",
   "execution_count": 6,
   "id": "5a79de1b",
   "metadata": {},
   "outputs": [],
   "source": [
    "from pathlib import Path\n",
    "from scipy.io import loadmat\n",
    "import numpy as np\n",
    "import matplotlib.pyplot as plt\n",
    "\n",
    "from parse import parse"
   ]
  },
  {
   "cell_type": "code",
   "execution_count": 7,
   "id": "3c038250",
   "metadata": {},
   "outputs": [
    {
     "name": "stdout",
     "output_type": "stream",
     "text": [
      "[PosixPath('/home/dicarlo_d/Documents/Datasets/2022-Synth2D/all_fields_0001.mat'), PosixPath('/home/dicarlo_d/Documents/Datasets/2022-Synth2D/all_fields_0003.mat'), PosixPath('/home/dicarlo_d/Documents/Datasets/2022-Synth2D/all_fields_0053.mat')]\n"
     ]
    }
   ],
   "source": [
    "data_home = '/home/dicarlo_d/Documents/Datasets/2022-Synth2D/'\n",
    "data_dir = Path(data_home)\n",
    "files = list(data_dir.glob('*.mat'))\n",
    "print(files)"
   ]
  },
  {
   "cell_type": "code",
   "execution_count": 17,
   "id": "4951fd94",
   "metadata": {},
   "outputs": [
    {
     "name": "stdout",
     "output_type": "stream",
     "text": [
      "/home/dicarlo_d/Documents/Datasets/2022-Synth2D/all_fields_0053.mat\n",
      "<Result () {'id': '0053'}>\n"
     ]
    }
   ],
   "source": [
    "curr_file = files[-1]\n",
    "print(curr_file)\n",
    "str_format = 'all_fields_{id}.mat'\n",
    "params = parse(str_format, curr_file.name)\n",
    "print(params)\n",
    "sub_dataset = loadmat(curr_file)"
   ]
  },
  {
   "cell_type": "code",
   "execution_count": null,
   "id": "886b1980",
   "metadata": {},
   "outputs": [],
   "source": [
    "print(sub_dataset.keys())\n",
    "sub_dataset"
   ]
  },
  {
   "cell_type": "code",
   "execution_count": null,
   "id": "dea7e4ff",
   "metadata": {},
   "outputs": [],
   "source": [
    "U = sub_dataset['U']\n",
    "V = sub_dataset['V']\n",
    "Ui = sub_dataset['Uinter']\n",
    "Vi = sub_dataset['Vinter']\n",
    "Uf = sub_dataset['Ufinal']\n",
    "Vf = sub_dataset['Vfinal']\n",
    "D = sub_dataset['diffusion']\n",
    "Wf = sub_dataset['vorticite_final']\n",
    "Wi = sub_dataset['vorticite_inter']\n",
    "nb_steps = sub_dataset['nb_steps']"
   ]
  },
  {
   "cell_type": "code",
   "execution_count": null,
   "id": "6e6f742f",
   "metadata": {},
   "outputs": [],
   "source": [
    "print(U.shape)\n",
    "print(V.shape)\n",
    "print(Uf.shape)\n",
    "print(Ui.shape)\n",
    "print(Vf.shape)\n",
    "print(Ui.shape)\n",
    "print(D.shape)\n",
    "print(Wf.shape)\n",
    "print(Wi.shape)"
   ]
  },
  {
   "cell_type": "code",
   "execution_count": null,
   "id": "0e5b34bc",
   "metadata": {},
   "outputs": [],
   "source": [
    "assert np.allclose(Ui[:,:,0], Uf[:,:,0])\n",
    "assert np.allclose(Vi[:,:,0], Vf[:,:,0])\n",
    "assert np.allclose(Ui[:,:,-1], Uf[:,:,-1])\n",
    "assert np.allclose(Vi[:,:,-1], Vf[:,:,-1])"
   ]
  },
  {
   "cell_type": "code",
   "execution_count": null,
   "id": "5eeea08b",
   "metadata": {},
   "outputs": [],
   "source": [
    "print(D)"
   ]
  },
  {
   "cell_type": "code",
   "execution_count": null,
   "id": "2cabbd51",
   "metadata": {},
   "outputs": [],
   "source": [
    "nb_steps = sub_dataset['nb_steps'].squeeze()\n",
    "nb_steps = nb_steps.tolist()\n",
    "nb_steps = np.array([0]+nb_steps)\n",
    "print(nb_steps)\n",
    "np.sum(nb_steps)"
   ]
  },
  {
   "cell_type": "code",
   "execution_count": null,
   "id": "acdaf4d2",
   "metadata": {},
   "outputs": [],
   "source": [
    "Dt = 1\n",
    "Nt = len(nb_steps)\n",
    "time_intra = np.arange(Nt)*Dt\n",
    "print(time_intra)\n",
    "print(time_intra*nb_steps)"
   ]
  },
  {
   "cell_type": "code",
   "execution_count": null,
   "id": "07508b95",
   "metadata": {},
   "outputs": [],
   "source": [
    "t = []\n",
    "for i in range(Nt-1):\n",
    "    print(time_intra[i], time_intra[i+1], nb_steps[i+1])\n",
    "    curr_time_inter = np.linspace(time_intra[i], time_intra[i+1], nb_steps[i+1], endpoint=False)\n",
    "    t.append(curr_time_inter)\n",
    "t.append([time_intra[-1]])\n",
    "t = np.concatenate(t)\n",
    "print(t)\n",
    "print(len(t))"
   ]
  },
  {
   "cell_type": "code",
   "execution_count": null,
   "id": "ad2fab7b",
   "metadata": {},
   "outputs": [],
   "source": [
    "print(t[0])\n",
    "print(t[18])\n",
    "assert np.allclose(t[0], time_intra[0])\n",
    "assert np.allclose(t[18], time_intra[1])\n",
    "assert np.allclose(t[36], time_intra[2])\n",
    "assert np.allclose(Ui[:,:,0], Uf[:,:,0])\n",
    "assert np.allclose(Ui[:,:,18], Uf[:,:,1])\n",
    "assert np.allclose(Ui[:,:,36], Uf[:,:,2])"
   ]
  },
  {
   "cell_type": "code",
   "execution_count": null,
   "id": "15b77aee",
   "metadata": {},
   "outputs": [],
   "source": [
    "np.mod(1.,1) == 0"
   ]
  },
  {
   "cell_type": "code",
   "execution_count": null,
   "id": "de8b6ab8",
   "metadata": {},
   "outputs": [],
   "source": [
    "x = np.eye(3)\n",
    "np.unique(x)"
   ]
  },
  {
   "cell_type": "code",
   "execution_count": null,
   "id": "9ea28cbe",
   "metadata": {},
   "outputs": [],
   "source": []
  }
 ],
 "metadata": {
  "kernelspec": {
   "display_name": "Python 3 (ipykernel)",
   "language": "python",
   "name": "python3"
  },
  "language_info": {
   "codemirror_mode": {
    "name": "ipython",
    "version": 3
   },
   "file_extension": ".py",
   "mimetype": "text/x-python",
   "name": "python",
   "nbconvert_exporter": "python",
   "pygments_lexer": "ipython3",
   "version": "3.8.5"
  }
 },
 "nbformat": 4,
 "nbformat_minor": 5
}
